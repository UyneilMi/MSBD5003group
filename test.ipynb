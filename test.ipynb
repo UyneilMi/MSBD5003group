{
 "cells": [
  {
   "cell_type": "code",
   "execution_count": null,
   "id": "initial_id",
   "metadata": {
    "collapsed": true
   },
   "outputs": [],
   "source": [
    "import unittest\n",
    "from pyspark.sql import SparkSession\n",
    "from pyspark.sql.functions import col, lit\n",
    "from decision_tree import DecisionTree, TreeNode\n",
    "from random_forest import RandomForest\n",
    "from feature_preprocessing import preprocess_features, equal_frequency_binning\n",
    "from split_management import apply_split\n",
    "from impurity_calculators import ImpurityCalculator\n"
   ]
  },
  {
   "cell_type": "code",
   "execution_count": null,
   "outputs": [],
   "source": [
    "class DecisionTreeTests(unittest.TestCase):\n",
    "    @classmethod\n",
    "    def setUpClass(cls):\n",
    "        cls.spark = SparkSession.builder.master(\"local[2]\").appName(\"Testing\").getOrCreate()\n",
    "\n",
    "    @classmethod\n",
    "    def tearDownClass(cls):\n",
    "        cls.spark.stop()\n",
    "\n",
    "    def test_tree_initialization(self):\n",
    "        dt = DecisionTree()\n",
    "        self.assertIsNone(dt.root)\n",
    "        self.assertEqual(dt.max_depth, 5)\n",
    "\n",
    "    def test_predict(self):\n",
    "        # Assuming a simple tree for testing prediction\n",
    "        root = TreeNode(0, 10, TreeNode(prediction=0), TreeNode(prediction=1))\n",
    "        self.assertEqual(root.predict([5]), 0)\n",
    "        self.assertEqual(root.predict([15]), 1)\n",
    "\n",
    "    def test_training(self):\n",
    "        data = self.spark.createDataFrame([\n",
    "            (1, 'A', 0),\n",
    "            (2, 'B', 0),\n",
    "            (3, 'C', 1),\n",
    "            (4, 'D', 1)\n",
    "        ], [\"feature\", \"category\", \"label\"])\n",
    "        dt = DecisionTree(max_depth=3, min_instances_per_node=1)\n",
    "        dt.train(data, [\"feature\", \"category\"], \"label\")\n",
    "        self.assertIsNotNone(dt.root)\n",
    "        self.assertTrue(dt.root.is_leaf or dt.root.left is not None)\n",
    "\n",
    "class RandomForestTests(unittest.TestCase):\n",
    "    @classmethod\n",
    "    def setUpClass(cls):\n",
    "        cls.spark = SparkSession.builder.master(\"local[2]\").appName(\"TestingRF\").getOrCreate()\n",
    "\n",
    "    def test_rf_initialization(self):\n",
    "        rf = RandomForest(num_trees=3, max_depth=3)\n",
    "        self.assertEqual(len(rf.trees), 3)\n",
    "\n",
    "    def test_rf_training(self):\n",
    "        data = self.spark.createDataFrame([\n",
    "            (1, 'A', 0),\n",
    "            (2, 'B', 0),\n",
    "            (3, 'C', 1),\n",
    "            (4, 'D', 1)\n",
    "        ], [\"feature\", \"category\", \"label\"])\n",
    "        rf = RandomForest(num_trees=2, max_depth=2)\n",
    "        rf.train(data, [\"feature\", \"category\"], \"label\")\n",
    "        self.assertEqual(len(rf.trees), 2)\n",
    "        for tree in rf.trees:\n",
    "            self.assertIsNotNone(tree.root)\n",
    "\n",
    "if __name__ == '__main__':\n",
    "    unittest.main()\n"
   ],
   "metadata": {
    "collapsed": false
   },
   "id": "eb33dd967c96c66d"
  },
  {
   "cell_type": "code",
   "execution_count": null,
   "outputs": [],
   "source": [],
   "metadata": {
    "collapsed": false
   },
   "id": "4e968ec07c71f17e"
  }
 ],
 "metadata": {
  "kernelspec": {
   "display_name": "Python 3",
   "language": "python",
   "name": "python3"
  },
  "language_info": {
   "codemirror_mode": {
    "name": "ipython",
    "version": 2
   },
   "file_extension": ".py",
   "mimetype": "text/x-python",
   "name": "python",
   "nbconvert_exporter": "python",
   "pygments_lexer": "ipython2",
   "version": "2.7.6"
  }
 },
 "nbformat": 4,
 "nbformat_minor": 5
}
